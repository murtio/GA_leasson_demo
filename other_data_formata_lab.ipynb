{
 "cells": [
  {
   "cell_type": "markdown",
   "metadata": {},
   "source": [
    "# Other Data Formats: CSV Data Files "
   ]
  },
  {
   "cell_type": "markdown",
   "metadata": {},
   "source": [
    "## 1. Example of importing CSV to Excel "
   ]
  },
  {
   "cell_type": "markdown",
   "metadata": {},
   "source": [
    "We will download one of the datasets from our Repo to the computer. We then import that data file to a blank Excel sheet.\n",
    "\n",
    "### Instructions\n",
    "- Download the dataset contining UFO sighting records to your machine (ufo.tsv)\n",
    "- Open a blank Excel sheet.\n",
    "- Got to Data>Get External Data>Import Text File\n",
    "- Chose the location of the file that you donwloaded it \"ufo.tsv\"\n",
    "- Chose the proper delimeter for this file.\n",
    "- Click on finish\n",
    "- Done!"
   ]
  },
  {
   "cell_type": "code",
   "execution_count": null,
   "metadata": {},
   "outputs": [],
   "source": []
  },
  {
   "cell_type": "markdown",
   "metadata": {},
   "source": [
    "## 2. Practice "
   ]
  },
  {
   "cell_type": "markdown",
   "metadata": {},
   "source": [
    "Apply what we have done previously on the other provided datasets.\n",
    "### Instructions\n",
    "- Download the dataset contining Movie & Title Info from IMDB to your machine (movie_ratings.tsv)\n",
    "- Open a blank Excel sheet.\n",
    "- Got to Data>Get External Data>Import Text File\n",
    "- Chose the location of the file that you donwloaded it \"movie_ratings.tsv\"\n",
    "- Chose the proper delimeter for this file.\n",
    "- Click on finish\n",
    "- Done!\n",
    "#### What is the delimiter character that you have chosen?`"
   ]
  },
  {
   "cell_type": "markdown",
   "metadata": {},
   "source": []
  },
  {
   "cell_type": "markdown",
   "metadata": {},
   "source": [
    "## 3. Challenge OPTIONAl"
   ]
  },
  {
   "cell_type": "markdown",
   "metadata": {},
   "source": [
    "Try to import the other two data files:\n",
    "- drinks.csv\n",
    "- movies.tbl ***\n",
    "\n",
    "Using different delimiters. \n",
    "#### *** There's a trick for \"movies.tbl\" before importing!!!"
   ]
  },
  {
   "cell_type": "code",
   "execution_count": null,
   "metadata": {},
   "outputs": [],
   "source": []
  },
  {
   "cell_type": "markdown",
   "metadata": {},
   "source": [
    "## 4. Independent Practice"
   ]
  },
  {
   "cell_type": "markdown",
   "metadata": {},
   "source": [
    "- Go to this Kaggle dataset [https://www.kaggle.com/murtio/car-noise-specification]\n",
    "- Try to understand its data and problem statement\n",
    "- Downlad the CSV file \n",
    "- Import it to Excel\n",
    "- Sort by \"production year\"\n",
    "- Produce a graph of avg noise_level vs. production year"
   ]
  },
  {
   "cell_type": "markdown",
   "metadata": {},
   "source": [
    "#### What do you notice from this graph? \n",
    "#### Given the data, do you think that noise level is getting better in cars manufacturing?"
   ]
  },
  {
   "cell_type": "code",
   "execution_count": null,
   "metadata": {},
   "outputs": [],
   "source": []
  }
 ],
 "metadata": {
  "kernelspec": {
   "display_name": "Python 3",
   "language": "python",
   "name": "python3"
  },
  "language_info": {
   "codemirror_mode": {
    "name": "ipython",
    "version": 3
   },
   "file_extension": ".py",
   "mimetype": "text/x-python",
   "name": "python",
   "nbconvert_exporter": "python",
   "pygments_lexer": "ipython3",
   "version": "3.7.3"
  }
 },
 "nbformat": 4,
 "nbformat_minor": 2
}
